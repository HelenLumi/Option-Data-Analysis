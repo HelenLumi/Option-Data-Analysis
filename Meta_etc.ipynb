{
 "cells": [
  {
   "cell_type": "code",
   "execution_count": 1,
   "id": "fe6bb679",
   "metadata": {},
   "outputs": [],
   "source": [
    "import numpy as np\n",
    "import pandas as pd\n",
    "\n",
    "import matplotlib.pyplot as plt\n",
    "import seaborn as sns\n",
    "%matplotlib inline"
   ]
  },
  {
   "cell_type": "code",
   "execution_count": 12,
   "id": "92f413a7",
   "metadata": {},
   "outputs": [],
   "source": [
    "df = pd.read_csv(\"sample_data.csv\")"
   ]
  },
  {
   "cell_type": "code",
   "execution_count": 3,
   "id": "a630117f",
   "metadata": {},
   "outputs": [
    {
     "data": {
      "text/html": [
       "<div>\n",
       "<style scoped>\n",
       "    .dataframe tbody tr th:only-of-type {\n",
       "        vertical-align: middle;\n",
       "    }\n",
       "\n",
       "    .dataframe tbody tr th {\n",
       "        vertical-align: top;\n",
       "    }\n",
       "\n",
       "    .dataframe thead th {\n",
       "        text-align: right;\n",
       "    }\n",
       "</style>\n",
       "<table border=\"1\" class=\"dataframe\">\n",
       "  <thead>\n",
       "    <tr style=\"text-align: right;\">\n",
       "      <th></th>\n",
       "      <th>firm</th>\n",
       "      <th>hcomnam</th>\n",
       "      <th>date</th>\n",
       "      <th>pct_pi_lr</th>\n",
       "      <th>es_pct</th>\n",
       "      <th>rzd_pcts_lr</th>\n",
       "      <th>dgam</th>\n",
       "      <th>ma20_frac_vol_rzd</th>\n",
       "      <th>ma20_es_pct</th>\n",
       "      <th>ma20_rzd_pcts_lr</th>\n",
       "      <th>ma20_pct_pi_lr</th>\n",
       "      <th>ma20_dgam</th>\n",
       "      <th>ma5_frac_vol_rzd</th>\n",
       "      <th>ma5_es_pct</th>\n",
       "      <th>ma5_rzd_pcts_lr</th>\n",
       "      <th>ma5_pct_pi_lr</th>\n",
       "      <th>ma5_dgam</th>\n",
       "    </tr>\n",
       "  </thead>\n",
       "  <tbody>\n",
       "    <tr>\n",
       "      <th>0</th>\n",
       "      <td>10001</td>\n",
       "      <td>GAS NATURAL INC</td>\n",
       "      <td>14feb2014</td>\n",
       "      <td>0.000049</td>\n",
       "      <td>0.002479</td>\n",
       "      <td>0.002663</td>\n",
       "      <td>NaN</td>\n",
       "      <td>1.000000</td>\n",
       "      <td>0.002479</td>\n",
       "      <td>0.002663</td>\n",
       "      <td>-0.000184</td>\n",
       "      <td>NaN</td>\n",
       "      <td>1.000000</td>\n",
       "      <td>0.002479</td>\n",
       "      <td>0.002663</td>\n",
       "      <td>-0.000184</td>\n",
       "      <td>NaN</td>\n",
       "    </tr>\n",
       "    <tr>\n",
       "      <th>1</th>\n",
       "      <td>10001</td>\n",
       "      <td>GAS NATURAL INC</td>\n",
       "      <td>18feb2014</td>\n",
       "      <td>0.003560</td>\n",
       "      <td>0.009392</td>\n",
       "      <td>0.005790</td>\n",
       "      <td>-0.000066</td>\n",
       "      <td>0.500269</td>\n",
       "      <td>0.005935</td>\n",
       "      <td>0.004226</td>\n",
       "      <td>0.001688</td>\n",
       "      <td>-0.000066</td>\n",
       "      <td>0.500269</td>\n",
       "      <td>0.005935</td>\n",
       "      <td>0.004226</td>\n",
       "      <td>0.001688</td>\n",
       "      <td>-0.000066</td>\n",
       "    </tr>\n",
       "    <tr>\n",
       "      <th>2</th>\n",
       "      <td>10001</td>\n",
       "      <td>GAS NATURAL INC</td>\n",
       "      <td>19feb2014</td>\n",
       "      <td>0.001439</td>\n",
       "      <td>0.003606</td>\n",
       "      <td>0.002154</td>\n",
       "      <td>-0.000083</td>\n",
       "      <td>0.333707</td>\n",
       "      <td>0.005159</td>\n",
       "      <td>0.003536</td>\n",
       "      <td>0.001605</td>\n",
       "      <td>-0.000074</td>\n",
       "      <td>0.333707</td>\n",
       "      <td>0.005159</td>\n",
       "      <td>0.003536</td>\n",
       "      <td>0.001605</td>\n",
       "      <td>-0.000074</td>\n",
       "    </tr>\n",
       "    <tr>\n",
       "      <th>3</th>\n",
       "      <td>10001</td>\n",
       "      <td>GAS NATURAL INC</td>\n",
       "      <td>20feb2014</td>\n",
       "      <td>0.003863</td>\n",
       "      <td>0.006872</td>\n",
       "      <td>0.002986</td>\n",
       "      <td>-0.000071</td>\n",
       "      <td>0.250350</td>\n",
       "      <td>0.005587</td>\n",
       "      <td>0.003398</td>\n",
       "      <td>0.002169</td>\n",
       "      <td>-0.000073</td>\n",
       "      <td>0.250350</td>\n",
       "      <td>0.005587</td>\n",
       "      <td>0.003398</td>\n",
       "      <td>0.002169</td>\n",
       "      <td>-0.000073</td>\n",
       "    </tr>\n",
       "    <tr>\n",
       "      <th>4</th>\n",
       "      <td>10001</td>\n",
       "      <td>GAS NATURAL INC</td>\n",
       "      <td>21feb2014</td>\n",
       "      <td>0.000228</td>\n",
       "      <td>0.004913</td>\n",
       "      <td>0.004685</td>\n",
       "      <td>-0.000066</td>\n",
       "      <td>0.200318</td>\n",
       "      <td>0.005452</td>\n",
       "      <td>0.003656</td>\n",
       "      <td>0.001781</td>\n",
       "      <td>-0.000071</td>\n",
       "      <td>0.200318</td>\n",
       "      <td>0.005452</td>\n",
       "      <td>0.003656</td>\n",
       "      <td>0.001781</td>\n",
       "      <td>-0.000071</td>\n",
       "    </tr>\n",
       "  </tbody>\n",
       "</table>\n",
       "</div>"
      ],
      "text/plain": [
       "    firm          hcomnam       date  pct_pi_lr    es_pct  rzd_pcts_lr  \\\n",
       "0  10001  GAS NATURAL INC  14feb2014   0.000049  0.002479     0.002663   \n",
       "1  10001  GAS NATURAL INC  18feb2014   0.003560  0.009392     0.005790   \n",
       "2  10001  GAS NATURAL INC  19feb2014   0.001439  0.003606     0.002154   \n",
       "3  10001  GAS NATURAL INC  20feb2014   0.003863  0.006872     0.002986   \n",
       "4  10001  GAS NATURAL INC  21feb2014   0.000228  0.004913     0.004685   \n",
       "\n",
       "       dgam  ma20_frac_vol_rzd  ma20_es_pct  ma20_rzd_pcts_lr  ma20_pct_pi_lr  \\\n",
       "0       NaN           1.000000     0.002479          0.002663       -0.000184   \n",
       "1 -0.000066           0.500269     0.005935          0.004226        0.001688   \n",
       "2 -0.000083           0.333707     0.005159          0.003536        0.001605   \n",
       "3 -0.000071           0.250350     0.005587          0.003398        0.002169   \n",
       "4 -0.000066           0.200318     0.005452          0.003656        0.001781   \n",
       "\n",
       "   ma20_dgam  ma5_frac_vol_rzd  ma5_es_pct  ma5_rzd_pcts_lr  ma5_pct_pi_lr  \\\n",
       "0        NaN          1.000000    0.002479         0.002663      -0.000184   \n",
       "1  -0.000066          0.500269    0.005935         0.004226       0.001688   \n",
       "2  -0.000074          0.333707    0.005159         0.003536       0.001605   \n",
       "3  -0.000073          0.250350    0.005587         0.003398       0.002169   \n",
       "4  -0.000071          0.200318    0.005452         0.003656       0.001781   \n",
       "\n",
       "   ma5_dgam  \n",
       "0       NaN  \n",
       "1 -0.000066  \n",
       "2 -0.000074  \n",
       "3 -0.000073  \n",
       "4 -0.000071  "
      ]
     },
     "execution_count": 3,
     "metadata": {},
     "output_type": "execute_result"
    }
   ],
   "source": [
    "df.head()"
   ]
  },
  {
   "cell_type": "markdown",
   "id": "e4a54e0b",
   "metadata": {},
   "source": [
    "## Automate graph-drawing"
   ]
  },
  {
   "cell_type": "code",
   "execution_count": 13,
   "id": "433026af",
   "metadata": {},
   "outputs": [
    {
     "data": {
      "text/plain": [
       "array(['GAS NATURAL INC', 'PLEXUS CORP', 'HANGER INC', ...,\n",
       "       'C B O E GLOBAL MARKETS INC', 'S & W SEED CO', 'TESLA INC'],\n",
       "      dtype=object)"
      ]
     },
     "execution_count": 13,
     "metadata": {},
     "output_type": "execute_result"
    }
   ],
   "source": [
    "name = df['hcomnam'].unique()\n",
    "name"
   ]
  },
  {
   "cell_type": "code",
   "execution_count": 14,
   "id": "cbf1404b",
   "metadata": {},
   "outputs": [],
   "source": [
    "df = df.groupby(['hcomnam'])"
   ]
  },
  {
   "cell_type": "code",
   "execution_count": 15,
   "id": "4e406d3d",
   "metadata": {
    "scrolled": true
   },
   "outputs": [],
   "source": [
    "import random\n",
    "idx = random.sample(range(len(name)), 40)"
   ]
  },
  {
   "cell_type": "code",
   "execution_count": 16,
   "id": "ac289e84",
   "metadata": {},
   "outputs": [
    {
     "name": "stderr",
     "output_type": "stream",
     "text": [
      "<ipython-input-16-2938a3824f80>:60: RuntimeWarning: More than 20 figures have been opened. Figures created through the pyplot interface (`matplotlib.pyplot.figure`) are retained until explicitly closed and may consume too much memory. (To control this warning, see the rcParam `figure.max_open_warning`).\n",
      "  fig, ax = plt.subplots(figsize=(6,4),dpi=100)\n"
     ]
    },
    {
     "data": {
      "text/plain": [
       "<Figure size 1600x1000 with 0 Axes>"
      ]
     },
     "metadata": {},
     "output_type": "display_data"
    },
    {
     "data": {
      "text/plain": [
       "<Figure size 1600x1000 with 0 Axes>"
      ]
     },
     "metadata": {},
     "output_type": "display_data"
    },
    {
     "data": {
      "text/plain": [
       "<Figure size 600x400 with 0 Axes>"
      ]
     },
     "metadata": {},
     "output_type": "display_data"
    },
    {
     "data": {
      "text/plain": [
       "<Figure size 1600x1000 with 0 Axes>"
      ]
     },
     "metadata": {},
     "output_type": "display_data"
    },
    {
     "data": {
      "text/plain": [
       "<Figure size 1600x1000 with 0 Axes>"
      ]
     },
     "metadata": {},
     "output_type": "display_data"
    },
    {
     "data": {
      "text/plain": [
       "<Figure size 600x400 with 0 Axes>"
      ]
     },
     "metadata": {},
     "output_type": "display_data"
    },
    {
     "data": {
      "text/plain": [
       "<Figure size 1600x1000 with 0 Axes>"
      ]
     },
     "metadata": {},
     "output_type": "display_data"
    },
    {
     "data": {
      "text/plain": [
       "<Figure size 1600x1000 with 0 Axes>"
      ]
     },
     "metadata": {},
     "output_type": "display_data"
    },
    {
     "data": {
      "text/plain": [
       "<Figure size 600x400 with 0 Axes>"
      ]
     },
     "metadata": {},
     "output_type": "display_data"
    },
    {
     "data": {
      "text/plain": [
       "<Figure size 1600x1000 with 0 Axes>"
      ]
     },
     "metadata": {},
     "output_type": "display_data"
    },
    {
     "data": {
      "text/plain": [
       "<Figure size 1600x1000 with 0 Axes>"
      ]
     },
     "metadata": {},
     "output_type": "display_data"
    },
    {
     "data": {
      "text/plain": [
       "<Figure size 600x400 with 0 Axes>"
      ]
     },
     "metadata": {},
     "output_type": "display_data"
    },
    {
     "data": {
      "text/plain": [
       "<Figure size 1600x1000 with 0 Axes>"
      ]
     },
     "metadata": {},
     "output_type": "display_data"
    },
    {
     "data": {
      "text/plain": [
       "<Figure size 1600x1000 with 0 Axes>"
      ]
     },
     "metadata": {},
     "output_type": "display_data"
    },
    {
     "data": {
      "text/plain": [
       "<Figure size 600x400 with 0 Axes>"
      ]
     },
     "metadata": {},
     "output_type": "display_data"
    },
    {
     "data": {
      "text/plain": [
       "<Figure size 1600x1000 with 0 Axes>"
      ]
     },
     "metadata": {},
     "output_type": "display_data"
    },
    {
     "data": {
      "text/plain": [
       "<Figure size 1600x1000 with 0 Axes>"
      ]
     },
     "metadata": {},
     "output_type": "display_data"
    },
    {
     "data": {
      "text/plain": [
       "<Figure size 600x400 with 0 Axes>"
      ]
     },
     "metadata": {},
     "output_type": "display_data"
    },
    {
     "data": {
      "text/plain": [
       "<Figure size 1600x1000 with 0 Axes>"
      ]
     },
     "metadata": {},
     "output_type": "display_data"
    },
    {
     "data": {
      "text/plain": [
       "<Figure size 1600x1000 with 0 Axes>"
      ]
     },
     "metadata": {},
     "output_type": "display_data"
    },
    {
     "data": {
      "text/plain": [
       "<Figure size 600x400 with 0 Axes>"
      ]
     },
     "metadata": {},
     "output_type": "display_data"
    },
    {
     "data": {
      "text/plain": [
       "<Figure size 1600x1000 with 0 Axes>"
      ]
     },
     "metadata": {},
     "output_type": "display_data"
    },
    {
     "data": {
      "text/plain": [
       "<Figure size 1600x1000 with 0 Axes>"
      ]
     },
     "metadata": {},
     "output_type": "display_data"
    },
    {
     "data": {
      "text/plain": [
       "<Figure size 600x400 with 0 Axes>"
      ]
     },
     "metadata": {},
     "output_type": "display_data"
    },
    {
     "data": {
      "text/plain": [
       "<Figure size 1600x1000 with 0 Axes>"
      ]
     },
     "metadata": {},
     "output_type": "display_data"
    },
    {
     "data": {
      "text/plain": [
       "<Figure size 1600x1000 with 0 Axes>"
      ]
     },
     "metadata": {},
     "output_type": "display_data"
    },
    {
     "data": {
      "text/plain": [
       "<Figure size 600x400 with 0 Axes>"
      ]
     },
     "metadata": {},
     "output_type": "display_data"
    },
    {
     "data": {
      "text/plain": [
       "<Figure size 1600x1000 with 0 Axes>"
      ]
     },
     "metadata": {},
     "output_type": "display_data"
    },
    {
     "data": {
      "text/plain": [
       "<Figure size 1600x1000 with 0 Axes>"
      ]
     },
     "metadata": {},
     "output_type": "display_data"
    },
    {
     "data": {
      "text/plain": [
       "<Figure size 600x400 with 0 Axes>"
      ]
     },
     "metadata": {},
     "output_type": "display_data"
    },
    {
     "data": {
      "text/plain": [
       "<Figure size 1600x1000 with 0 Axes>"
      ]
     },
     "metadata": {},
     "output_type": "display_data"
    },
    {
     "data": {
      "text/plain": [
       "<Figure size 1600x1000 with 0 Axes>"
      ]
     },
     "metadata": {},
     "output_type": "display_data"
    },
    {
     "data": {
      "text/plain": [
       "<Figure size 600x400 with 0 Axes>"
      ]
     },
     "metadata": {},
     "output_type": "display_data"
    },
    {
     "data": {
      "text/plain": [
       "<Figure size 1600x1000 with 0 Axes>"
      ]
     },
     "metadata": {},
     "output_type": "display_data"
    },
    {
     "data": {
      "text/plain": [
       "<Figure size 1600x1000 with 0 Axes>"
      ]
     },
     "metadata": {},
     "output_type": "display_data"
    },
    {
     "data": {
      "text/plain": [
       "<Figure size 600x400 with 0 Axes>"
      ]
     },
     "metadata": {},
     "output_type": "display_data"
    },
    {
     "data": {
      "text/plain": [
       "<Figure size 1600x1000 with 0 Axes>"
      ]
     },
     "metadata": {},
     "output_type": "display_data"
    },
    {
     "data": {
      "text/plain": [
       "<Figure size 1600x1000 with 0 Axes>"
      ]
     },
     "metadata": {},
     "output_type": "display_data"
    },
    {
     "data": {
      "text/plain": [
       "<Figure size 600x400 with 0 Axes>"
      ]
     },
     "metadata": {},
     "output_type": "display_data"
    },
    {
     "data": {
      "text/plain": [
       "<Figure size 1600x1000 with 0 Axes>"
      ]
     },
     "metadata": {},
     "output_type": "display_data"
    },
    {
     "data": {
      "text/plain": [
       "<Figure size 1600x1000 with 0 Axes>"
      ]
     },
     "metadata": {},
     "output_type": "display_data"
    },
    {
     "data": {
      "text/plain": [
       "<Figure size 600x400 with 0 Axes>"
      ]
     },
     "metadata": {},
     "output_type": "display_data"
    },
    {
     "data": {
      "text/plain": [
       "<Figure size 1600x1000 with 0 Axes>"
      ]
     },
     "metadata": {},
     "output_type": "display_data"
    },
    {
     "data": {
      "text/plain": [
       "<Figure size 1600x1000 with 0 Axes>"
      ]
     },
     "metadata": {},
     "output_type": "display_data"
    },
    {
     "data": {
      "text/plain": [
       "<Figure size 600x400 with 0 Axes>"
      ]
     },
     "metadata": {},
     "output_type": "display_data"
    },
    {
     "data": {
      "text/plain": [
       "<Figure size 1600x1000 with 0 Axes>"
      ]
     },
     "metadata": {},
     "output_type": "display_data"
    },
    {
     "data": {
      "text/plain": [
       "<Figure size 1600x1000 with 0 Axes>"
      ]
     },
     "metadata": {},
     "output_type": "display_data"
    },
    {
     "data": {
      "text/plain": [
       "<Figure size 600x400 with 0 Axes>"
      ]
     },
     "metadata": {},
     "output_type": "display_data"
    },
    {
     "data": {
      "text/plain": [
       "<Figure size 1600x1000 with 0 Axes>"
      ]
     },
     "metadata": {},
     "output_type": "display_data"
    },
    {
     "data": {
      "text/plain": [
       "<Figure size 1600x1000 with 0 Axes>"
      ]
     },
     "metadata": {},
     "output_type": "display_data"
    },
    {
     "data": {
      "text/plain": [
       "<Figure size 600x400 with 0 Axes>"
      ]
     },
     "metadata": {},
     "output_type": "display_data"
    },
    {
     "data": {
      "text/plain": [
       "<Figure size 1600x1000 with 0 Axes>"
      ]
     },
     "metadata": {},
     "output_type": "display_data"
    },
    {
     "data": {
      "text/plain": [
       "<Figure size 1600x1000 with 0 Axes>"
      ]
     },
     "metadata": {},
     "output_type": "display_data"
    },
    {
     "data": {
      "text/plain": [
       "<Figure size 600x400 with 0 Axes>"
      ]
     },
     "metadata": {},
     "output_type": "display_data"
    },
    {
     "data": {
      "text/plain": [
       "<Figure size 1600x1000 with 0 Axes>"
      ]
     },
     "metadata": {},
     "output_type": "display_data"
    },
    {
     "data": {
      "text/plain": [
       "<Figure size 1600x1000 with 0 Axes>"
      ]
     },
     "metadata": {},
     "output_type": "display_data"
    },
    {
     "data": {
      "text/plain": [
       "<Figure size 600x400 with 0 Axes>"
      ]
     },
     "metadata": {},
     "output_type": "display_data"
    },
    {
     "data": {
      "text/plain": [
       "<Figure size 1600x1000 with 0 Axes>"
      ]
     },
     "metadata": {},
     "output_type": "display_data"
    },
    {
     "data": {
      "text/plain": [
       "<Figure size 1600x1000 with 0 Axes>"
      ]
     },
     "metadata": {},
     "output_type": "display_data"
    },
    {
     "data": {
      "text/plain": [
       "<Figure size 600x400 with 0 Axes>"
      ]
     },
     "metadata": {},
     "output_type": "display_data"
    },
    {
     "data": {
      "text/plain": [
       "<Figure size 1600x1000 with 0 Axes>"
      ]
     },
     "metadata": {},
     "output_type": "display_data"
    },
    {
     "data": {
      "text/plain": [
       "<Figure size 1600x1000 with 0 Axes>"
      ]
     },
     "metadata": {},
     "output_type": "display_data"
    },
    {
     "data": {
      "text/plain": [
       "<Figure size 600x400 with 0 Axes>"
      ]
     },
     "metadata": {},
     "output_type": "display_data"
    },
    {
     "data": {
      "text/plain": [
       "<Figure size 1600x1000 with 0 Axes>"
      ]
     },
     "metadata": {},
     "output_type": "display_data"
    },
    {
     "data": {
      "text/plain": [
       "<Figure size 1600x1000 with 0 Axes>"
      ]
     },
     "metadata": {},
     "output_type": "display_data"
    },
    {
     "data": {
      "text/plain": [
       "<Figure size 600x400 with 0 Axes>"
      ]
     },
     "metadata": {},
     "output_type": "display_data"
    },
    {
     "data": {
      "text/plain": [
       "<Figure size 1600x1000 with 0 Axes>"
      ]
     },
     "metadata": {},
     "output_type": "display_data"
    },
    {
     "data": {
      "text/plain": [
       "<Figure size 1600x1000 with 0 Axes>"
      ]
     },
     "metadata": {},
     "output_type": "display_data"
    },
    {
     "data": {
      "text/plain": [
       "<Figure size 600x400 with 0 Axes>"
      ]
     },
     "metadata": {},
     "output_type": "display_data"
    },
    {
     "data": {
      "text/plain": [
       "<Figure size 1600x1000 with 0 Axes>"
      ]
     },
     "metadata": {},
     "output_type": "display_data"
    },
    {
     "data": {
      "text/plain": [
       "<Figure size 1600x1000 with 0 Axes>"
      ]
     },
     "metadata": {},
     "output_type": "display_data"
    },
    {
     "data": {
      "text/plain": [
       "<Figure size 600x400 with 0 Axes>"
      ]
     },
     "metadata": {},
     "output_type": "display_data"
    },
    {
     "data": {
      "text/plain": [
       "<Figure size 1600x1000 with 0 Axes>"
      ]
     },
     "metadata": {},
     "output_type": "display_data"
    },
    {
     "data": {
      "text/plain": [
       "<Figure size 1600x1000 with 0 Axes>"
      ]
     },
     "metadata": {},
     "output_type": "display_data"
    },
    {
     "data": {
      "text/plain": [
       "<Figure size 600x400 with 0 Axes>"
      ]
     },
     "metadata": {},
     "output_type": "display_data"
    },
    {
     "data": {
      "text/plain": [
       "<Figure size 1600x1000 with 0 Axes>"
      ]
     },
     "metadata": {},
     "output_type": "display_data"
    },
    {
     "data": {
      "text/plain": [
       "<Figure size 1600x1000 with 0 Axes>"
      ]
     },
     "metadata": {},
     "output_type": "display_data"
    },
    {
     "data": {
      "text/plain": [
       "<Figure size 600x400 with 0 Axes>"
      ]
     },
     "metadata": {},
     "output_type": "display_data"
    },
    {
     "data": {
      "text/plain": [
       "<Figure size 1600x1000 with 0 Axes>"
      ]
     },
     "metadata": {},
     "output_type": "display_data"
    },
    {
     "data": {
      "text/plain": [
       "<Figure size 1600x1000 with 0 Axes>"
      ]
     },
     "metadata": {},
     "output_type": "display_data"
    },
    {
     "data": {
      "text/plain": [
       "<Figure size 600x400 with 0 Axes>"
      ]
     },
     "metadata": {},
     "output_type": "display_data"
    },
    {
     "data": {
      "text/plain": [
       "<Figure size 1600x1000 with 0 Axes>"
      ]
     },
     "metadata": {},
     "output_type": "display_data"
    },
    {
     "data": {
      "text/plain": [
       "<Figure size 1600x1000 with 0 Axes>"
      ]
     },
     "metadata": {},
     "output_type": "display_data"
    },
    {
     "data": {
      "text/plain": [
       "<Figure size 600x400 with 0 Axes>"
      ]
     },
     "metadata": {},
     "output_type": "display_data"
    },
    {
     "data": {
      "text/plain": [
       "<Figure size 1600x1000 with 0 Axes>"
      ]
     },
     "metadata": {},
     "output_type": "display_data"
    },
    {
     "data": {
      "text/plain": [
       "<Figure size 1600x1000 with 0 Axes>"
      ]
     },
     "metadata": {},
     "output_type": "display_data"
    },
    {
     "data": {
      "text/plain": [
       "<Figure size 600x400 with 0 Axes>"
      ]
     },
     "metadata": {},
     "output_type": "display_data"
    },
    {
     "data": {
      "text/plain": [
       "<Figure size 1600x1000 with 0 Axes>"
      ]
     },
     "metadata": {},
     "output_type": "display_data"
    },
    {
     "data": {
      "text/plain": [
       "<Figure size 1600x1000 with 0 Axes>"
      ]
     },
     "metadata": {},
     "output_type": "display_data"
    },
    {
     "data": {
      "text/plain": [
       "<Figure size 600x400 with 0 Axes>"
      ]
     },
     "metadata": {},
     "output_type": "display_data"
    },
    {
     "data": {
      "text/plain": [
       "<Figure size 1600x1000 with 0 Axes>"
      ]
     },
     "metadata": {},
     "output_type": "display_data"
    },
    {
     "data": {
      "text/plain": [
       "<Figure size 1600x1000 with 0 Axes>"
      ]
     },
     "metadata": {},
     "output_type": "display_data"
    },
    {
     "data": {
      "text/plain": [
       "<Figure size 600x400 with 0 Axes>"
      ]
     },
     "metadata": {},
     "output_type": "display_data"
    },
    {
     "data": {
      "text/plain": [
       "<Figure size 1600x1000 with 0 Axes>"
      ]
     },
     "metadata": {},
     "output_type": "display_data"
    },
    {
     "data": {
      "text/plain": [
       "<Figure size 1600x1000 with 0 Axes>"
      ]
     },
     "metadata": {},
     "output_type": "display_data"
    },
    {
     "data": {
      "text/plain": [
       "<Figure size 600x400 with 0 Axes>"
      ]
     },
     "metadata": {},
     "output_type": "display_data"
    },
    {
     "data": {
      "text/plain": [
       "<Figure size 1600x1000 with 0 Axes>"
      ]
     },
     "metadata": {},
     "output_type": "display_data"
    },
    {
     "data": {
      "text/plain": [
       "<Figure size 1600x1000 with 0 Axes>"
      ]
     },
     "metadata": {},
     "output_type": "display_data"
    },
    {
     "data": {
      "text/plain": [
       "<Figure size 600x400 with 0 Axes>"
      ]
     },
     "metadata": {},
     "output_type": "display_data"
    },
    {
     "data": {
      "text/plain": [
       "<Figure size 1600x1000 with 0 Axes>"
      ]
     },
     "metadata": {},
     "output_type": "display_data"
    },
    {
     "data": {
      "text/plain": [
       "<Figure size 1600x1000 with 0 Axes>"
      ]
     },
     "metadata": {},
     "output_type": "display_data"
    },
    {
     "data": {
      "text/plain": [
       "<Figure size 600x400 with 0 Axes>"
      ]
     },
     "metadata": {},
     "output_type": "display_data"
    },
    {
     "data": {
      "text/plain": [
       "<Figure size 1600x1000 with 0 Axes>"
      ]
     },
     "metadata": {},
     "output_type": "display_data"
    },
    {
     "data": {
      "text/plain": [
       "<Figure size 1600x1000 with 0 Axes>"
      ]
     },
     "metadata": {},
     "output_type": "display_data"
    },
    {
     "data": {
      "text/plain": [
       "<Figure size 600x400 with 0 Axes>"
      ]
     },
     "metadata": {},
     "output_type": "display_data"
    },
    {
     "data": {
      "text/plain": [
       "<Figure size 1600x1000 with 0 Axes>"
      ]
     },
     "metadata": {},
     "output_type": "display_data"
    },
    {
     "data": {
      "text/plain": [
       "<Figure size 1600x1000 with 0 Axes>"
      ]
     },
     "metadata": {},
     "output_type": "display_data"
    },
    {
     "data": {
      "text/plain": [
       "<Figure size 600x400 with 0 Axes>"
      ]
     },
     "metadata": {},
     "output_type": "display_data"
    },
    {
     "data": {
      "text/plain": [
       "<Figure size 1600x1000 with 0 Axes>"
      ]
     },
     "metadata": {},
     "output_type": "display_data"
    },
    {
     "data": {
      "text/plain": [
       "<Figure size 1600x1000 with 0 Axes>"
      ]
     },
     "metadata": {},
     "output_type": "display_data"
    },
    {
     "data": {
      "text/plain": [
       "<Figure size 600x400 with 0 Axes>"
      ]
     },
     "metadata": {},
     "output_type": "display_data"
    },
    {
     "data": {
      "text/plain": [
       "<Figure size 1600x1000 with 0 Axes>"
      ]
     },
     "metadata": {},
     "output_type": "display_data"
    },
    {
     "data": {
      "text/plain": [
       "<Figure size 1600x1000 with 0 Axes>"
      ]
     },
     "metadata": {},
     "output_type": "display_data"
    },
    {
     "data": {
      "text/plain": [
       "<Figure size 600x400 with 0 Axes>"
      ]
     },
     "metadata": {},
     "output_type": "display_data"
    },
    {
     "data": {
      "text/plain": [
       "<Figure size 1600x1000 with 0 Axes>"
      ]
     },
     "metadata": {},
     "output_type": "display_data"
    },
    {
     "data": {
      "text/plain": [
       "<Figure size 1600x1000 with 0 Axes>"
      ]
     },
     "metadata": {},
     "output_type": "display_data"
    },
    {
     "data": {
      "text/plain": [
       "<Figure size 600x400 with 0 Axes>"
      ]
     },
     "metadata": {},
     "output_type": "display_data"
    },
    {
     "data": {
      "text/plain": [
       "<Figure size 1600x1000 with 0 Axes>"
      ]
     },
     "metadata": {},
     "output_type": "display_data"
    },
    {
     "data": {
      "text/plain": [
       "<Figure size 1600x1000 with 0 Axes>"
      ]
     },
     "metadata": {},
     "output_type": "display_data"
    },
    {
     "data": {
      "text/plain": [
       "<Figure size 600x400 with 0 Axes>"
      ]
     },
     "metadata": {},
     "output_type": "display_data"
    }
   ],
   "source": [
    "import os\n",
    "for i in idx:\n",
    "    firm = df.get_group(name[i])\n",
    "\n",
    "    dt = firm['date']\n",
    "    pi = firm['ma20_pct_pi_lr']\n",
    "    rz = firm['ma20_rzd_pcts_lr']\n",
    "    dg = firm['ma20_dgam']\n",
    "\n",
    "    # Draw first graph\n",
    "\n",
    "    fig, ax1 = plt.subplots(figsize=(8,5),dpi=200)\n",
    "\n",
    "    title = name[i].split()[0]\n",
    "    ax1.set_title(title)\n",
    "    ax1.set_xlabel('The Date of this Price')\n",
    "    ax1.set_ylabel('Price Impact')\n",
    "    lns1 = ax1.plot(dt, pi, color='tab:blue', label='mean of pct_pi_lr in a 20−periods rol. wind.')\n",
    "    ax1.set_xticks(np.linspace(0,len(dt)-1,5))\n",
    "    \n",
    "    ax2 = ax1.twinx()\n",
    "\n",
    "    ax2.set_ylabel('Dollar Gamma')\n",
    "    lns2 = ax2.plot(dt, dg, color='tab:red', label='mean of dgam in a 20−periods rol. wind.')\n",
    "\n",
    "    # added these two lines\n",
    "    lns = lns1+lns2\n",
    "    labs = [l.get_label() for l in lns]\n",
    "    ax1.legend(lns, labs, ncol=2, bbox_to_anchor=(-0.05, -0.15), loc=2)\n",
    "\n",
    "    cd = os.getcwd()\n",
    "    plt.savefig(cd + \"/firms/{}_1.jpg\".format(title), bbox_inches='tight')\n",
    "    plt.clf()\n",
    "        \n",
    "    # Draw second graph\n",
    "\n",
    "    fig, ax1 = plt.subplots(figsize=(8,5),dpi=200)\n",
    "\n",
    "    ax1.set_title(title)\n",
    "    ax1.set_xlabel('The Date of this Price')\n",
    "    ax1.set_ylabel('Realized Spread')\n",
    "    lns1 = ax1.plot(dt, rz, color='tab:blue', label='mean of rzd_pcts_lr in a 20−periods rol. wind.')\n",
    "    ax1.set_xticks(np.linspace(0,len(dt)-1,5))     \n",
    "\n",
    "    ax2 = ax1.twinx()\n",
    "\n",
    "    ax2.set_ylabel('Dollar Gamma')\n",
    "    lns2 = ax2.plot(dt, dg, color='tab:red', label='mean of dgam in a 20−periods rol. wind.')\n",
    "\n",
    "    # added these two lines\n",
    "    lns = lns1+lns2\n",
    "    labs = [l.get_label() for l in lns]\n",
    "    ax1.legend(lns, labs, ncol=2, bbox_to_anchor=(-0.05, -0.15), loc=2)\n",
    "\n",
    "    cd = os.getcwd()\n",
    "    plt.savefig(cd + \"/firms/{}_2.jpg\".format(title), bbox_inches='tight')\n",
    "    plt.clf()\n",
    "\n",
    "    # draw third graph\n",
    "    fig, ax = plt.subplots(figsize=(6,4),dpi=100)\n",
    "\n",
    "    sns.kdeplot(firm[firm['dgam']<0]['rzd_pcts_lr'], shade=True, color='orange', label = 0)\n",
    "    sns.kdeplot(firm[firm['dgam']>0]['rzd_pcts_lr'], shade=True, color='blue', label = 1)\n",
    "\n",
    "    # Plot formatting\n",
    "    plt.legend(ncol=2)\n",
    "    plt.title('KDE of Spread for ' + name[i])\n",
    "    plt.ylabel('Density')\n",
    "    ax.autoscale()\n",
    "    ax.set_xlim(-0.00002,)\n",
    "\n",
    "    import os\n",
    "    cd = os.getcwd()\n",
    "    plt.savefig(cd + \"/firms/{}_3.jpg\".format(title), bbox_inches='tight')\n",
    "    plt.clf()"
   ]
  },
  {
   "cell_type": "markdown",
   "id": "297c23d5",
   "metadata": {},
   "source": [
    "## Meta"
   ]
  },
  {
   "cell_type": "code",
   "execution_count": null,
   "id": "a5eb70ce",
   "metadata": {
    "scrolled": true
   },
   "outputs": [],
   "source": [
    "meta = df[df['hcomnam']=='META PLATFORMS INC']\n",
    "meta"
   ]
  },
  {
   "cell_type": "code",
   "execution_count": null,
   "id": "5e4933f5",
   "metadata": {},
   "outputs": [],
   "source": [
    "dt = meta['date']\n",
    "pi = meta['ma20_pct_pi_lr']\n",
    "rz = meta['ma20_rzd_pcts_lr']\n",
    "dg = meta['ma20_dgam']"
   ]
  },
  {
   "cell_type": "code",
   "execution_count": null,
   "id": "703fc021",
   "metadata": {},
   "outputs": [],
   "source": [
    "# META_eg1\n",
    "fig, ax1 = plt.subplots(figsize=(8,5),dpi=200)\n",
    "\n",
    "ax1.set_title('META')\n",
    "ax1.set_xlabel('The Date of this Price')\n",
    "ax1.set_ylabel('Price Impact')\n",
    "lns1 = ax1.plot(dt, pi, color='tab:blue', label='mean of pct_pi_lr in a 20−periods rol. wind.')\n",
    "ax1.set_xticks(np.linspace(-80,len(dt),5))\n",
    "ax1.set_xticklabels(['01jan2012','01jan2014','01jan2016','01jan2018','01jan2020'])\n",
    "ax1.set_yticks(np.linspace(0,0.0004,5))       \n",
    "\n",
    "ax2 = ax1.twinx()\n",
    "\n",
    "ax2.set_ylabel('Dollar Gamma')\n",
    "lns2 = ax2.plot(dt, dg, color='tab:red', label='mean of dgam in a 20−periods rol. wind.')\n",
    "ax2.set_yticks(np.linspace(0,80,5))  \n",
    "\n",
    "# added these two lines\n",
    "lns = lns1+lns2\n",
    "labs = [l.get_label() for l in lns]\n",
    "ax1.legend(lns, labs, ncol=2, bbox_to_anchor=(-0.05, -0.15), loc=2)\n",
    "                        \n",
    "fig.tight_layout()\n",
    "plt.show()"
   ]
  },
  {
   "cell_type": "code",
   "execution_count": null,
   "id": "75bf7630",
   "metadata": {},
   "outputs": [],
   "source": [
    "# META_eg2\n",
    "fig, ax1 = plt.subplots(figsize=(8,5),dpi=200)\n",
    "\n",
    "ax1.set_title('META')\n",
    "ax1.set_xlabel('The Date of this Price')\n",
    "ax1.set_ylabel('Realized Spread')\n",
    "lns1 = ax1.plot(dt, rz, color='tab:blue', label='mean of rzd_pcts_lr in a 20−periods rol. wind.')\n",
    "ax1.set_xticks(np.linspace(0,len(dt),5))\n",
    "ax1.set_xticklabels(['01jan2012','01jan2014','01jan2016','01jan2018','01jan2020'])\n",
    "ax1.set_yticks(np.linspace(-0.00005,0.0002,6))       \n",
    "\n",
    "ax2 = ax1.twinx()\n",
    "\n",
    "ax2.set_ylabel('Dollar Gamma')\n",
    "lns2 = ax2.plot(dt, dg, color='tab:red', label='mean of dgam in a 20−periods rol. wind.')\n",
    "ax2.set_yticks(np.linspace(0,80,5))  \n",
    "\n",
    "# added these two lines\n",
    "lns = lns1+lns2\n",
    "labs = [l.get_label() for l in lns]\n",
    "ax1.legend(lns, labs, ncol=2, bbox_to_anchor=(-0.05, -0.15), loc=2)\n",
    "                        \n",
    "fig.tight_layout()\n",
    "plt.show()"
   ]
  },
  {
   "cell_type": "code",
   "execution_count": null,
   "id": "ef9cb710",
   "metadata": {},
   "outputs": [],
   "source": [
    "# META_eg3\n",
    "fig, ax = plt.subplots(figsize=(6,4),dpi=100)\n",
    "\n",
    "sns.kdeplot(meta[meta['dgam']<0]['rzd_pcts_lr'], shade=True, color='orange', label = 0)\n",
    "sns.kdeplot(meta[meta['dgam']>0]['rzd_pcts_lr'], shade=True, color='blue', label = 1)\n",
    "    \n",
    "# Plot formatting\n",
    "plt.legend(ncol=2)\n",
    "plt.title('KDE of Spread for Meta Platforms Inc.')\n",
    "plt.ylabel('Density')\n",
    "ax.set_xticks(np.linspace(0,0.0008,5))\n",
    "ax.set_xlim(-0.00002,0.00082)\n",
    "ax.set_yticks(np.linspace(0,15000,4))"
   ]
  },
  {
   "cell_type": "markdown",
   "id": "14b679da",
   "metadata": {},
   "source": [
    "## Citibank"
   ]
  },
  {
   "cell_type": "code",
   "execution_count": null,
   "id": "581eeae1",
   "metadata": {},
   "outputs": [],
   "source": [
    "citi = df[df['hcomnam']=='CITIGROUP INC']\n",
    "citi"
   ]
  },
  {
   "cell_type": "code",
   "execution_count": null,
   "id": "7898af3d",
   "metadata": {},
   "outputs": [],
   "source": [
    "dt = citi['date']\n",
    "pi = citi['ma20_pct_pi_lr']\n",
    "rz = citi['ma20_rzd_pcts_lr']\n",
    "dg = citi['ma20_dgam']"
   ]
  },
  {
   "cell_type": "code",
   "execution_count": null,
   "id": "a7173886",
   "metadata": {},
   "outputs": [],
   "source": [
    "fig, ax1 = plt.subplots(figsize=(8,5),dpi=200)\n",
    "\n",
    "ax1.set_title('CITIBANK')\n",
    "ax1.set_xlabel('The Date of this Price')\n",
    "ax1.set_ylabel('Price Impact')\n",
    "lns1 = ax1.plot(dt, pi, color='tab:blue', label='mean of pct_pi_lr in a 20−periods rol. wind.')\n",
    "ax1.set_xticks(np.linspace(0,len(dt),5))\n",
    "ax1.set_xticklabels(['01jan2011','01apr2013','01jul2015','01oct2017','01jan2020'])\n",
    "#ax1.set_yticks(np.linspace(0,0.0004,5))       \n",
    "\n",
    "ax2 = ax1.twinx()\n",
    "\n",
    "ax2.set_ylabel('Dollar Gamma')\n",
    "lns2 = ax2.plot(dt, dg, color='tab:red', label='mean of dgam in a 20−periods rol. wind.')\n",
    "#ax2.set_yticks(np.linspace(0,80,5))  \n",
    "\n",
    "# added these two lines\n",
    "lns = lns1+lns2\n",
    "labs = [l.get_label() for l in lns]\n",
    "ax1.legend(lns, labs, ncol=2, bbox_to_anchor=(-0.05, -0.15), loc=2)\n",
    "                        \n",
    "# fig.tight_layout()\n",
    "# plt.show()\n",
    "plt.savefig(\"/Users/luyifan/Desktop/Summer/CityU Prof. O'Donovan/firms/CITI_1.jpg\")"
   ]
  },
  {
   "cell_type": "code",
   "execution_count": null,
   "id": "c5182486",
   "metadata": {},
   "outputs": [],
   "source": [
    "fig, ax1 = plt.subplots(figsize=(8,5),dpi=200)\n",
    "\n",
    "ax1.set_title('CITIBANK')\n",
    "ax1.set_xlabel('The Date of this Price')\n",
    "ax1.set_ylabel('Realized Spread')\n",
    "lns1 = ax1.plot(dt, rz, color='tab:blue', label='mean of rzd_pcts_lr in a 20−periods rol. wind.')\n",
    "ax1.set_xticks(np.linspace(0,len(dt),5))\n",
    "ax1.set_xticklabels(['01jan2011','01apr2013','01jul2015','01oct2017','01jan2020'])\n",
    "# ax1.set_yticks(np.linspace(-0.00005,0.0002,6))       \n",
    "\n",
    "ax2 = ax1.twinx()\n",
    "\n",
    "ax2.set_ylabel('Dollar Gamma')\n",
    "lns2 = ax2.plot(dt, dg, color='tab:red', label='mean of dgam in a 20−periods rol. wind.')\n",
    "# ax2.set_yticks(np.linspace(0,80,5))  \n",
    "\n",
    "# added these two lines\n",
    "lns = lns1+lns2\n",
    "labs = [l.get_label() for l in lns]\n",
    "ax1.legend(lns, labs, ncol=2, bbox_to_anchor=(-0.05, -0.15), loc=2)\n",
    "                        \n",
    "# fig.tight_layout()\n",
    "# plt.show()\n",
    "plt.savefig(\"/Users/luyifan/Desktop/Summer/CityU Prof. O'Donovan/firms/CITI_2.jpg\")"
   ]
  },
  {
   "cell_type": "code",
   "execution_count": null,
   "id": "e7bfef9d",
   "metadata": {},
   "outputs": [],
   "source": [
    "fig, ax = plt.subplots(figsize=(6,4),dpi=100)\n",
    "\n",
    "sns.kdeplot(citi[citi['dgam']<0]['rzd_pcts_lr'], shade=True, color='orange', label = 0)\n",
    "sns.kdeplot(citi[citi['dgam']>0]['rzd_pcts_lr'], shade=True, color='blue', label = 1)\n",
    "    \n",
    "# Plot formatting\n",
    "plt.legend(ncol=2)\n",
    "plt.title('KDE of Spread for Citigroup Inc.')\n",
    "plt.ylabel('Density')\n",
    "ax.set_xticks(np.linspace(0,0.0008,5))\n",
    "ax.set_xlim(-0.00002,0.00082)\n",
    "ax.set_yticks(np.linspace(0,15000,4))\n",
    "\n",
    "plt.savefig(\"/Users/luyifan/Desktop/Summer/CityU Prof. O'Donovan/firms/CITI_3.jpg\")"
   ]
  },
  {
   "cell_type": "markdown",
   "id": "1fd1e5d9",
   "metadata": {},
   "source": [
    "## JPMorgan Chase & Co"
   ]
  },
  {
   "cell_type": "code",
   "execution_count": null,
   "id": "5941a30f",
   "metadata": {},
   "outputs": [],
   "source": [
    "jpm = df[df['hcomnam']=='JPMORGAN CHASE & CO']\n",
    "jpm"
   ]
  },
  {
   "cell_type": "code",
   "execution_count": null,
   "id": "dbd0d9b6",
   "metadata": {},
   "outputs": [],
   "source": [
    "dt = jpm['date']\n",
    "pi = jpm['ma20_pct_pi_lr']\n",
    "rz = jpm['ma20_rzd_pcts_lr']\n",
    "dg = jpm['ma20_dgam']"
   ]
  },
  {
   "cell_type": "code",
   "execution_count": null,
   "id": "113d54af",
   "metadata": {},
   "outputs": [],
   "source": [
    "fig, ax1 = plt.subplots(figsize=(8,5),dpi=200)\n",
    "\n",
    "ax1.set_title('JPMORGAN')\n",
    "ax1.set_xlabel('The Date of this Price')\n",
    "ax1.set_ylabel('Price Impact')\n",
    "lns1 = ax1.plot(dt, pi, color='tab:blue', label='mean of pct_pi_lr in a 20−periods rol. wind.')\n",
    "ax1.set_xticks(np.linspace(0,len(dt),5))\n",
    "ax1.set_xticklabels(['01jan2011','01apr2013','01jul2015','01oct2017','01jan2020'])\n",
    "ax1.set_yticks(np.linspace(0,0.0004,5))       \n",
    "\n",
    "ax2 = ax1.twinx()\n",
    "\n",
    "ax2.set_ylabel('Dollar Gamma')\n",
    "lns2 = ax2.plot(dt, dg, color='tab:red', label='mean of dgam in a 20−periods rol. wind.')\n",
    "ax2.set_yticks(np.linspace(-10,30,5))  \n",
    "\n",
    "# added these two lines\n",
    "lns = lns1+lns2\n",
    "labs = [l.get_label() for l in lns]\n",
    "ax1.legend(lns, labs, ncol=2, bbox_to_anchor=(-0.05, -0.15), loc=2)\n",
    "                        \n",
    "# fig.tight_layout()\n",
    "# plt.show()\n",
    "plt.savefig(\"/Users/luyifan/Desktop/Summer/CityU Prof. O'Donovan/firms/JPMORGAN_1.jpg\")"
   ]
  },
  {
   "cell_type": "code",
   "execution_count": null,
   "id": "17c946f6",
   "metadata": {},
   "outputs": [],
   "source": [
    "fig, ax1 = plt.subplots(figsize=(8,5),dpi=200)\n",
    "\n",
    "ax1.set_title('JPMORGAN')\n",
    "ax1.set_xlabel('The Date of this Price')\n",
    "ax1.set_ylabel('Realized Spread')\n",
    "lns1 = ax1.plot(dt, rz, color='tab:blue', label='mean of rzd_pcts_lr in a 20−periods rol. wind.')\n",
    "ax1.set_xticks(np.linspace(0,len(dt),5))\n",
    "ax1.set_xticklabels(['01jan2011','01apr2013','01jul2015','01oct2017','01jan2020'])\n",
    "# ax1.set_yticks(np.linspace(-0.00005,0.0002,6))       \n",
    "\n",
    "ax2 = ax1.twinx()\n",
    "\n",
    "ax2.set_ylabel('Dollar Gamma')\n",
    "lns2 = ax2.plot(dt, dg, color='tab:red', label='mean of dgam in a 20−periods rol. wind.')\n",
    "# ax2.set_yticks(np.linspace(0,80,5))  \n",
    "\n",
    "# added these two lines\n",
    "lns = lns1+lns2\n",
    "labs = [l.get_label() for l in lns]\n",
    "ax1.legend(lns, labs, ncol=2, bbox_to_anchor=(-0.05, -0.15), loc=2)\n",
    "                        \n",
    "# fig.tight_layout()\n",
    "# plt.show()\n",
    "plt.savefig(\"/Users/luyifan/Desktop/Summer/CityU Prof. O'Donovan/firms/JPMORGAN_2.jpg\")"
   ]
  },
  {
   "cell_type": "code",
   "execution_count": null,
   "id": "50f55df5",
   "metadata": {},
   "outputs": [],
   "source": [
    "fig, ax = plt.subplots(figsize=(6,4),dpi=100)\n",
    "\n",
    "sns.kdeplot(jpm[jpm['dgam']<0]['rzd_pcts_lr'], shade=True, color='orange', label = 0)\n",
    "sns.kdeplot(jpm[jpm['dgam']>0]['rzd_pcts_lr'], shade=True, color='blue', label = 1)\n",
    "    \n",
    "# Plot formatting\n",
    "plt.legend(ncol=2)\n",
    "plt.title('KDE of Spread for JPMorgan Chase & Co')\n",
    "plt.ylabel('Density')\n",
    "ax.set_xticks(np.linspace(0,0.0008,5))\n",
    "ax.set_xlim(-0.00002,0.00082)\n",
    "ax.set_yticks(np.linspace(0,15000,4))\n",
    "\n",
    "plt.savefig(\"/Users/luyifan/Desktop/Summer/CityU Prof. O'Donovan/firms/JPMORGAN_3.jpg\")"
   ]
  },
  {
   "cell_type": "markdown",
   "id": "db4a1cf5",
   "metadata": {},
   "source": [
    "## Tesla Inc"
   ]
  },
  {
   "cell_type": "code",
   "execution_count": null,
   "id": "b689d441",
   "metadata": {},
   "outputs": [],
   "source": [
    "tesla = df[df['hcomnam']=='TESLA INC']\n",
    "tesla"
   ]
  },
  {
   "cell_type": "code",
   "execution_count": null,
   "id": "b6ffcfce",
   "metadata": {},
   "outputs": [],
   "source": [
    "dt = tesla['date']\n",
    "pi = tesla['ma20_pct_pi_lr']\n",
    "rz = tesla['ma20_rzd_pcts_lr']\n",
    "dg = tesla['ma20_dgam']"
   ]
  },
  {
   "cell_type": "code",
   "execution_count": null,
   "id": "c9ef7a20",
   "metadata": {},
   "outputs": [],
   "source": [
    "fig, ax1 = plt.subplots(figsize=(8,5),dpi=200)\n",
    "\n",
    "ax1.set_title('TESLA')\n",
    "ax1.set_xlabel('The Date of this Price')\n",
    "ax1.set_ylabel('Price Impact')\n",
    "lns1 = ax1.plot(dt, pi, color='tab:blue', label='mean of pct_pi_lr in a 20−periods rol. wind.')\n",
    "ax1.set_xticks(np.linspace(0,len(dt),5))\n",
    "ax1.set_xticklabels(['01jan2011','01apr2013','01jul2015','01oct2017','01jan2020'])\n",
    "# ax1.set_yticks(np.linspace(0,0.0004,5))       \n",
    "\n",
    "ax2 = ax1.twinx()\n",
    "\n",
    "ax2.set_ylabel('Dollar Gamma')\n",
    "lns2 = ax2.plot(dt, dg, color='tab:red', label='mean of dgam in a 20−periods rol. wind.')\n",
    "# ax2.set_yticks(np.linspace(-10,30,5))  \n",
    "\n",
    "# added these two lines\n",
    "lns = lns1+lns2\n",
    "labs = [l.get_label() for l in lns]\n",
    "ax1.legend(lns, labs, ncol=2, bbox_to_anchor=(-0.05, -0.15), loc=2)\n",
    "                        \n",
    "# fig.tight_layout()\n",
    "# plt.show()\n",
    "plt.savefig(\"/Users/luyifan/Desktop/Summer/CityU Prof. O'Donovan/firms/TESLA_1.jpg\")"
   ]
  },
  {
   "cell_type": "code",
   "execution_count": null,
   "id": "eadb5c1d",
   "metadata": {},
   "outputs": [],
   "source": [
    "fig, ax1 = plt.subplots(figsize=(8,5),dpi=200)\n",
    "\n",
    "ax1.set_title('TESLA')\n",
    "ax1.set_xlabel('The Date of this Price')\n",
    "ax1.set_ylabel('Realized Spread')\n",
    "lns1 = ax1.plot(dt, rz, color='tab:blue', label='mean of rzd_pcts_lr in a 20−periods rol. wind.')\n",
    "ax1.set_xticks(np.linspace(0,len(dt),5))\n",
    "ax1.set_xticklabels(['01jan2011','01apr2013','01jul2015','01oct2017','01jan2020'])\n",
    "# ax1.set_yticks(np.linspace(-0.00005,0.0002,6))       \n",
    "\n",
    "ax2 = ax1.twinx()\n",
    "\n",
    "ax2.set_ylabel('Dollar Gamma')\n",
    "lns2 = ax2.plot(dt, dg, color='tab:red', label='mean of dgam in a 20−periods rol. wind.')\n",
    "# ax2.set_yticks(np.linspace(0,80,5))  \n",
    "\n",
    "# added these two lines\n",
    "lns = lns1+lns2\n",
    "labs = [l.get_label() for l in lns]\n",
    "ax1.legend(lns, labs, ncol=2, bbox_to_anchor=(-0.05, -0.15), loc=2)\n",
    "                        \n",
    "# fig.tight_layout()\n",
    "# plt.show()\n",
    "plt.savefig(\"/Users/luyifan/Desktop/Summer/CityU Prof. O'Donovan/firms/TESLA_2.jpg\")"
   ]
  },
  {
   "cell_type": "code",
   "execution_count": null,
   "id": "633cf073",
   "metadata": {
    "scrolled": false
   },
   "outputs": [],
   "source": [
    "fig, ax = plt.subplots(figsize=(6,4),dpi=100)\n",
    "\n",
    "sns.kdeplot(tesla[tesla['dgam']<0]['rzd_pcts_lr'], shade=True, color='orange', label = 0)\n",
    "sns.kdeplot(tesla[tesla['dgam']>0]['rzd_pcts_lr'], shade=True, color='blue', label = 1)\n",
    "    \n",
    "# Plot formatting\n",
    "plt.legend(ncol=2)\n",
    "plt.title('KDE of Spread for Tesla Inc')\n",
    "plt.ylabel('Density')\n",
    "ax.set_xticks(np.linspace(0,0.0008,5))\n",
    "ax.set_xlim(-0.00002,0.00082)\n",
    "ax.set_yticks(np.linspace(0,3000,4))\n",
    "\n",
    "plt.savefig(\"/Users/luyifan/Desktop/Summer/CityU Prof. O'Donovan/firms/TESLA_3.jpg\")"
   ]
  },
  {
   "cell_type": "markdown",
   "id": "65f6910b",
   "metadata": {},
   "source": [
    "## Netflix Inc"
   ]
  },
  {
   "cell_type": "code",
   "execution_count": null,
   "id": "36a2d988",
   "metadata": {
    "scrolled": false
   },
   "outputs": [],
   "source": [
    "nf = df[df['hcomnam']=='NETFLIX INC']\n",
    "nf"
   ]
  },
  {
   "cell_type": "code",
   "execution_count": null,
   "id": "d75da00d",
   "metadata": {},
   "outputs": [],
   "source": [
    "dt = nf['date']\n",
    "pi = nf['ma20_pct_pi_lr']\n",
    "rz = nf['ma20_rzd_pcts_lr']\n",
    "dg = nf['ma20_dgam']"
   ]
  },
  {
   "cell_type": "code",
   "execution_count": null,
   "id": "0c39dd22",
   "metadata": {},
   "outputs": [],
   "source": [
    "fig, ax1 = plt.subplots(figsize=(8,5),dpi=200)\n",
    "\n",
    "ax1.set_title('NETFLIX')\n",
    "ax1.set_xlabel('The Date of this Price')\n",
    "ax1.set_ylabel('Price Impact')\n",
    "lns1 = ax1.plot(dt, pi, color='tab:blue', label='mean of pct_pi_lr in a 20−periods rol. wind.')\n",
    "ax1.set_xticks(np.linspace(0,len(dt),5))\n",
    "ax1.set_xticklabels(['01jan2011','01apr2013','01jul2015','01oct2017','01jan2020'])\n",
    "# ax1.set_yticks(np.linspace(0,0.0004,5))       \n",
    "\n",
    "ax2 = ax1.twinx()\n",
    "\n",
    "ax2.set_ylabel('Dollar Gamma')\n",
    "lns2 = ax2.plot(dt, dg, color='tab:red', label='mean of dgam in a 20−periods rol. wind.')\n",
    "# ax2.set_yticks(np.linspace(-10,30,5))  \n",
    "\n",
    "# added these two lines\n",
    "lns = lns1+lns2\n",
    "labs = [l.get_label() for l in lns]\n",
    "ax1.legend(lns, labs, ncol=2, bbox_to_anchor=(-0.05, -0.15), loc=2)\n",
    "                        \n",
    "# fig.tight_layout()\n",
    "# plt.show()\n",
    "plt.savefig(\"/Users/luyifan/Desktop/Summer/CityU Prof. O'Donovan/firms/NETFLIX_1.jpg\")"
   ]
  },
  {
   "cell_type": "code",
   "execution_count": null,
   "id": "d9342e82",
   "metadata": {},
   "outputs": [],
   "source": [
    "fig, ax1 = plt.subplots(figsize=(8,5),dpi=200)\n",
    "\n",
    "ax1.set_title('NETFLIX')\n",
    "ax1.set_xlabel('The Date of this Price')\n",
    "ax1.set_ylabel('Realized Spread')\n",
    "lns1 = ax1.plot(dt, rz, color='tab:blue', label='mean of rzd_pcts_lr in a 20−periods rol. wind.')\n",
    "ax1.set_xticks(np.linspace(0,len(dt),5))\n",
    "ax1.set_xticklabels(['01jan2011','01apr2013','01jul2015','01oct2017','01jan2020'])\n",
    "# ax1.set_yticks(np.linspace(-0.00005,0.0002,6))       \n",
    "\n",
    "ax2 = ax1.twinx()\n",
    "\n",
    "ax2.set_ylabel('Dollar Gamma')\n",
    "lns2 = ax2.plot(dt, dg, color='tab:red', label='mean of dgam in a 20−periods rol. wind.')\n",
    "# ax2.set_yticks(np.linspace(0,80,5))  \n",
    "\n",
    "# added these two lines\n",
    "lns = lns1+lns2\n",
    "labs = [l.get_label() for l in lns]\n",
    "ax1.legend(lns, labs, ncol=2, bbox_to_anchor=(-0.05, -0.15), loc=2)\n",
    "                        \n",
    "# fig.tight_layout()\n",
    "# plt.show()\n",
    "plt.savefig(\"/Users/luyifan/Desktop/Summer/CityU Prof. O'Donovan/firms/NETFLIX_2.jpg\")"
   ]
  },
  {
   "cell_type": "code",
   "execution_count": null,
   "id": "1cc1edcc",
   "metadata": {
    "scrolled": false
   },
   "outputs": [],
   "source": [
    "fig, ax = plt.subplots(figsize=(6,4),dpi=100)\n",
    "\n",
    "sns.kdeplot(nf[nf['dgam']<0]['rzd_pcts_lr'], shade=True, color='orange', label = 0)\n",
    "sns.kdeplot(nf[nf['dgam']>0]['rzd_pcts_lr'], shade=True, color='blue', label = 1)\n",
    "    \n",
    "# Plot formatting\n",
    "plt.legend(ncol=2)\n",
    "plt.title('KDE of Spread for Netflix Inc')\n",
    "plt.ylabel('Density')\n",
    "ax.set_xticks(np.linspace(0,0.0008,5))\n",
    "ax.set_xlim(-0.00002,0.00082)\n",
    "ax.set_yticks(np.linspace(0,6000,4))\n",
    "\n",
    "plt.savefig(\"/Users/luyifan/Desktop/Summer/CityU Prof. O'Donovan/firms/NETFLIX_3.jpg\")"
   ]
  },
  {
   "cell_type": "markdown",
   "id": "ed8f5337",
   "metadata": {},
   "source": [
    "## Microsoft Corp"
   ]
  },
  {
   "cell_type": "code",
   "execution_count": null,
   "id": "9590aa8e",
   "metadata": {},
   "outputs": [],
   "source": [
    "# check for substring in pandas dataframe\n",
    "df[df['hcomnam'].str.contains(\"NORTHERN OIL\")]"
   ]
  },
  {
   "cell_type": "code",
   "execution_count": null,
   "id": "50b055e4",
   "metadata": {
    "scrolled": false
   },
   "outputs": [],
   "source": [
    "msft = df[df['hcomnam']=='MICROSOFT CORP']\n",
    "msft"
   ]
  },
  {
   "cell_type": "code",
   "execution_count": null,
   "id": "fd889019",
   "metadata": {},
   "outputs": [],
   "source": [
    "dt = msft['date']\n",
    "pi = msft['ma20_pct_pi_lr']\n",
    "rz = msft['ma20_rzd_pcts_lr']\n",
    "dg = msft['ma20_dgam']"
   ]
  },
  {
   "cell_type": "code",
   "execution_count": null,
   "id": "eafacd2b",
   "metadata": {},
   "outputs": [],
   "source": [
    "fig, ax1 = plt.subplots(figsize=(8,5),dpi=200)\n",
    "\n",
    "ax1.set_title('MICROSOFT')\n",
    "ax1.set_xlabel('The Date of this Price')\n",
    "ax1.set_ylabel('Price Impact')\n",
    "lns1 = ax1.plot(dt, pi, color='tab:blue', label='mean of pct_pi_lr in a 20−periods rol. wind.')\n",
    "ax1.set_xticks(np.linspace(0,len(dt),5))\n",
    "ax1.set_xticklabels(['01jan2011','01apr2013','01jul2015','01oct2017','01jan2020'])\n",
    "# ax1.set_yticks(np.linspace(0,0.0004,5))       \n",
    "\n",
    "ax2 = ax1.twinx()\n",
    "\n",
    "ax2.set_ylabel('Dollar Gamma')\n",
    "lns2 = ax2.plot(dt, dg, color='tab:red', label='mean of dgam in a 20−periods rol. wind.')\n",
    "# ax2.set_yticks(np.linspace(-10,30,5))  \n",
    "\n",
    "# added these two lines\n",
    "lns = lns1+lns2\n",
    "labs = [l.get_label() for l in lns]\n",
    "ax1.legend(lns, labs, ncol=2, bbox_to_anchor=(-0.05, -0.15), loc=2)\n",
    "                        \n",
    "# fig.tight_layout()\n",
    "# plt.show()\n",
    "plt.savefig(\"/Users/luyifan/Desktop/Summer/CityU Prof. O'Donovan/firms/MICROSOFT_1.jpg\")"
   ]
  },
  {
   "cell_type": "code",
   "execution_count": null,
   "id": "a8ce7d84",
   "metadata": {},
   "outputs": [],
   "source": [
    "fig, ax1 = plt.subplots(figsize=(8,5),dpi=200)\n",
    "\n",
    "ax1.set_title('MICROSOFT')\n",
    "ax1.set_xlabel('The Date of this Price')\n",
    "ax1.set_ylabel('Realized Spread')\n",
    "lns1 = ax1.plot(dt, rz, color='tab:blue', label='mean of rzd_pcts_lr in a 20−periods rol. wind.')\n",
    "ax1.set_xticks(np.linspace(0,len(dt),5))\n",
    "ax1.set_xticklabels(['01jan2011','01apr2013','01jul2015','01oct2017','01jan2020'])\n",
    "# ax1.set_yticks(np.linspace(-0.00005,0.0002,6))       \n",
    "\n",
    "ax2 = ax1.twinx()\n",
    "\n",
    "ax2.set_ylabel('Dollar Gamma')\n",
    "lns2 = ax2.plot(dt, dg, color='tab:red', label='mean of dgam in a 20−periods rol. wind.')\n",
    "# ax2.set_yticks(np.linspace(0,80,5))  \n",
    "\n",
    "# added these two lines\n",
    "lns = lns1+lns2\n",
    "labs = [l.get_label() for l in lns]\n",
    "ax1.legend(lns, labs, ncol=2, bbox_to_anchor=(-0.05, -0.15), loc=2)\n",
    "                        \n",
    "# fig.tight_layout()\n",
    "# plt.show()\n",
    "plt.savefig(\"/Users/luyifan/Desktop/Summer/CityU Prof. O'Donovan/firms/MICROSOFT_2.jpg\")"
   ]
  },
  {
   "cell_type": "code",
   "execution_count": null,
   "id": "bd5b743a",
   "metadata": {
    "scrolled": false
   },
   "outputs": [],
   "source": [
    "fig, ax = plt.subplots(figsize=(6,4),dpi=100)\n",
    "\n",
    "sns.kdeplot(msft[msft['dgam']<0]['rzd_pcts_lr'], shade=True, color='orange', label = 0)\n",
    "sns.kdeplot(msft[msft['dgam']>0]['rzd_pcts_lr'], shade=True, color='blue', label = 1)\n",
    "    \n",
    "# Plot formatting\n",
    "plt.legend(ncol=2)\n",
    "plt.title('KDE of Spread for MICROSOFT CORP')\n",
    "plt.ylabel('Density')\n",
    "ax.set_xticks(np.linspace(0,0.0008,5))\n",
    "ax.set_xlim(-0.00002,0.00082)\n",
    "ax.set_yticks(np.linspace(0,10000,5))\n",
    "\n",
    "plt.savefig(\"/Users/luyifan/Desktop/Summer/CityU Prof. O'Donovan/firms/MICROSOFT_3.jpg\")"
   ]
  },
  {
   "cell_type": "code",
   "execution_count": null,
   "id": "eb99c9ed",
   "metadata": {},
   "outputs": [],
   "source": []
  }
 ],
 "metadata": {
  "kernelspec": {
   "display_name": "Python 3",
   "language": "python",
   "name": "python3"
  },
  "language_info": {
   "codemirror_mode": {
    "name": "ipython",
    "version": 3
   },
   "file_extension": ".py",
   "mimetype": "text/x-python",
   "name": "python",
   "nbconvert_exporter": "python",
   "pygments_lexer": "ipython3",
   "version": "3.9.7"
  }
 },
 "nbformat": 4,
 "nbformat_minor": 5
}
